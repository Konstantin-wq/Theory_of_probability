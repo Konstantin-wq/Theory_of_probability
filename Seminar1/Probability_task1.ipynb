{
 "cells": [
  {
   "cell_type": "code",
   "execution_count": 1,
   "id": "570eb595",
   "metadata": {},
   "outputs": [],
   "source": [
    "from math import factorial\n"
   ]
  },
  {
   "cell_type": "code",
   "execution_count": 2,
   "id": "d1345358",
   "metadata": {},
   "outputs": [],
   "source": [
    "#Задача 1\n",
    "#Из колоды в 52 карты извлекаются случайным образом 4 карты. \n",
    "#a) Найти вероятность того, что все карты – крести. \n",
    "#б) Найти вероятность, что среди 4-х карт окажется хотя бы один туз\""
   ]
  },
  {
   "cell_type": "code",
   "execution_count": 3,
   "id": "b5fdeb59",
   "metadata": {},
   "outputs": [
    {
     "name": "stdout",
     "output_type": "stream",
     "text": [
      "Общее число исходов: 270725\n",
      "Число благоприятных исходов 715\n",
      "Вероятность, что все карты – крестовой масти: 0.0026\n",
      "Вероятность в процентах: 0.26 %\n"
     ]
    }
   ],
   "source": [
    "#Решение варианта \"а\"\n",
    "\n",
    "clubs = 13 #Количество карт крестовой масти в колоде из 52 карт\n",
    "deck_of_cards = 52 #Общее число карт в колоде\n",
    "amount_of_cards = 4 # Количество извлекаемых карт\n",
    "#Общее число исходов будет вычисляться по формуле сочетаний , где n = deck_of_cards , k = amount_of_cards\n",
    "outcomes = int(factorial(deck_of_cards)/(factorial(amount_of_cards)*factorial(deck_of_cards-amount_of_cards)))\n",
    "print(\"Общее число исходов:\", outcomes)\n",
    "#Число благоприятных исходов будет расчитываться по формуле сочетаний, где n = clubs, k = amount_of_cards\n",
    "favourite_outcomes = int(factorial(clubs)/(factorial(amount_of_cards)*factorial(clubs-amount_of_cards)))\n",
    "print(\"Число благоприятных исходов\", favourite_outcomes)\n",
    "#Вероятность того, что все карты крестовой масти, будет рассчитана по формуле P = m/n, где m = favourite_outcomes,\n",
    "# n = outcomes\n",
    "probability = round((favourite_outcomes/outcomes),4)\n",
    "print(\"Вероятность, что все карты – крестовой масти:\", probability)\n",
    "print(\"Вероятность в процентах:\",probability*100,\"%\")"
   ]
  },
  {
   "cell_type": "code",
   "execution_count": 4,
   "id": "6a08ccf7",
   "metadata": {},
   "outputs": [
    {
     "name": "stdout",
     "output_type": "stream",
     "text": [
      "Общее число исходов: 270725\n",
      "Число благоприятных исходов 194580\n",
      "Вероятность, что среди 4-х карт окажется хотя бы один туз 0.2813\n",
      "Вероятность в процентах: 28.13 %\n"
     ]
    }
   ],
   "source": [
    "#Решение варианта \"б\"\n",
    "\n",
    "deck_of_cards = 52 #Общее число карт в колоде\n",
    "amount_of_cards = 4 # Количество извлекаемых карт\n",
    "aces = 4# Количество тузов в колоде\n",
    "#Общее число исходов будет вычисляться как и в вариатне \"а \"по формуле сочетаний , где n = deck_of_cards , k = amount_of_cards\n",
    "outcomes_b = int(factorial(deck_of_cards)/(factorial(amount_of_cards)*factorial(deck_of_cards-amount_of_cards)))\n",
    "print(\"Общее число исходов:\", outcomes_b)\n",
    "#Число благоприятных исходов будет рассчитываться, исходя \"от обратного\", что в вытащенных 4 картах не оказалось\n",
    "#ни одного туза.\n",
    "favourite_outcomes_b = int(factorial(deck_of_cards-4)/(factorial(amount_of_cards)*factorial((deck_of_cards-4)-amount_of_cards)))\n",
    "print(\"Число благоприятных исходов\", favourite_outcomes_b)\n",
    "#Расчет вероятности выпадения хотя бы одного туза будет рассчитываться исходя из правила, что сумма вероятностей\n",
    "#противоположных событий равна \"1\"\n",
    "probability_b = round((1 - favourite_outcomes_b/outcomes_b),4)\n",
    "print(\"Вероятность, что среди 4-х карт окажется хотя бы один туз\",probability_b)\n",
    "print(\"Вероятность в процентах:\",probability_b*100,\"%\")"
   ]
  },
  {
   "cell_type": "code",
   "execution_count": 5,
   "id": "069c66c8",
   "metadata": {},
   "outputs": [],
   "source": [
    "#Задача 2\n",
    "#На входной двери подъезда установлен кодовый замок, содержащий десять кнопок с цифрами от 0 до 9. \n",
    "#Код содержит три цифры, которые нужно нажать одновременно.\n",
    "#Какова вероятность того, что человек, не знающий код, откроет дверь с первой попытки?\n"
   ]
  },
  {
   "cell_type": "code",
   "execution_count": 6,
   "id": "f3c486b8",
   "metadata": {},
   "outputs": [
    {
     "name": "stdout",
     "output_type": "stream",
     "text": [
      "Количество исходов: 120\n",
      "Вероятность,что человек, не знающий код, откроет дверь с первой попытки 0.0083\n",
      "Вероятность в процентах: 0.83 %\n"
     ]
    }
   ],
   "source": [
    "#Решение\n",
    "#Для решения задачаи будет использоваться формула для расчета сочетаний (кнопки нажимаются одновременно, порядок не важен)\n",
    "#таким образом общее число исходов будет числом сочетаний из 10 (количество цифр) по 3 (количестов цифр в коде)\n",
    "#Количество благоприятных исходов равно \"1\" (замок должен открыться)\n",
    "#Вероятность рассчитывается по формуле P = m/n (число благоприятных исходов / общее числот исходов)\n",
    "#\n",
    "outcomes_2 = int(factorial(10)/(factorial(3)*factorial(7)))\n",
    "print(\"Количество исходов:\",outcomes_2)\n",
    "probability_2 = round((1/outcomes_2),4)\n",
    "print(\"Вероятность,что человек, не знающий код, откроет дверь с первой попытки\",probability_2)\n",
    "print(\"Вероятность в процентах:\",probability_2*100,\"%\")"
   ]
  },
  {
   "cell_type": "code",
   "execution_count": 7,
   "id": "08c0dfde",
   "metadata": {},
   "outputs": [],
   "source": [
    "#Задача 3\n",
    "#В ящике имеется 15 деталей, из которых 9 окрашены. \n",
    "#Рабочий случайным образом извлекает 3 детали. \n",
    "#Какова вероятность того, что все извлеченные детали окрашены?"
   ]
  },
  {
   "cell_type": "code",
   "execution_count": 15,
   "id": "1369f5da",
   "metadata": {},
   "outputs": [
    {
     "name": "stdout",
     "output_type": "stream",
     "text": [
      "Общее число исходов: 455\n",
      "Число благоприятных исходов: 84\n",
      "Вероятность, что все извлеченные детали окрашены: 0.1846\n",
      "Вероятность в процентах: 18.46 %\n"
     ]
    }
   ],
   "source": [
    "#Решение\n",
    "#Для решения задачи будет использоваться формула нахождения сочетаний\n",
    "details_amount = 15 # Общее количество деталей в ящике\n",
    "detailes_painted = 9 #Количество окрашенных деталей\n",
    "detailes_taken = 3 #Количество извлекаемых деталей\n",
    "#Рассчитываем общее количество исходов\n",
    "outcomes_3 = int(factorial(details_amount)/(factorial(detailes_taken)*factorial(details_amount-detailes_taken)))\n",
    "print(\"Общее число исходов:\",outcomes_3)\n",
    "#Рассчитываем количество благоприятных исходов\n",
    "favourite_outcomes_3 = int(factorial(detailes_painted)/(factorial(detailes_taken)*factorial(detailes_painted-detailes_taken)))\n",
    "print(\"Число благоприятных исходов:\",favourite_outcomes_3)\n",
    "#Рассчитываем вероятность, что все извлеченные детали окрашены\n",
    "probability_3 = round((favourite_outcomes_3/outcomes_3),4)\n",
    "print(\"Вероятность, что все извлеченные детали окрашены:\",probability_3)\n",
    "print(\"Вероятность в процентах:\",round(probability_3*100,4),\"%\")"
   ]
  },
  {
   "cell_type": "code",
   "execution_count": null,
   "id": "2ccf9a7d",
   "metadata": {},
   "outputs": [],
   "source": [
    "#Задача 4\n",
    "#В лотерее 100 билетов. Из них 2 выигрышных. \n",
    "#Какова вероятность того, что 2 приобретенных билета окажутся выигрышными?"
   ]
  },
  {
   "cell_type": "code",
   "execution_count": 22,
   "id": "e1fa8b1a",
   "metadata": {},
   "outputs": [
    {
     "name": "stdout",
     "output_type": "stream",
     "text": [
      "Общее число исходов: 4950\n",
      "Вероятность, что 2 приобретенных билета окажутся выигрышными 0.0002\n",
      "Вероятность в процентах: 0.02 %\n"
     ]
    }
   ],
   "source": [
    "#Решение\n",
    "#Для решения задачи используется формула нахождения сочетаний\n",
    "#Количество благоприятных исходов равно \"1\" т.к из условия следует, что оба билета должны выиграть\n",
    "amount_of_tickets = 100 # Общее число билетов\n",
    "tickets_taken = 2 # Количество купленных билетов\n",
    "outcomes_4 = int(factorial(amount_of_tickets)/(factorial(tickets_taken)*(factorial(amount_of_tickets-tickets_taken))))\n",
    "print(\"Общее число исходов:\",outcomes_4)\n",
    "#Рассчитываем вероятность, что 2 приобретенных билета окажутся выигрышными\n",
    "probability_4 = round((1/outcomes_4),4)\n",
    "print(\"Вероятность, что 2 приобретенных билета окажутся выигрышными\",probability_4)\n",
    "print(\"Вероятность в процентах:\",round(probability_4*100,4),\"%\")"
   ]
  },
  {
   "cell_type": "code",
   "execution_count": null,
   "id": "ed267ac4",
   "metadata": {},
   "outputs": [],
   "source": []
  }
 ],
 "metadata": {
  "kernelspec": {
   "display_name": "Python 3 (ipykernel)",
   "language": "python",
   "name": "python3"
  },
  "language_info": {
   "codemirror_mode": {
    "name": "ipython",
    "version": 3
   },
   "file_extension": ".py",
   "mimetype": "text/x-python",
   "name": "python",
   "nbconvert_exporter": "python",
   "pygments_lexer": "ipython3",
   "version": "3.9.13"
  }
 },
 "nbformat": 4,
 "nbformat_minor": 5
}
