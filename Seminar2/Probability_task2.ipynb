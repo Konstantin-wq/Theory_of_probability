{
 "cells": [
  {
   "cell_type": "code",
   "execution_count": 1,
   "id": "8e0d2d0b",
   "metadata": {},
   "outputs": [],
   "source": [
    "from math import factorial\n",
    "import math"
   ]
  },
  {
   "cell_type": "code",
   "execution_count": 2,
   "id": "1ae865f6",
   "metadata": {},
   "outputs": [],
   "source": [
    "#Задача 1\n",
    "#Вероятность того, что стрелок попадет в мишень, выстрелив один раз, равна 0.8. \n",
    "#Стрелок выстрелил 100 раз. \n",
    "#Найдите вероятность того, что стрелок попадет в цель ровно 85 раз."
   ]
  },
  {
   "cell_type": "code",
   "execution_count": 3,
   "id": "d351ef3c",
   "metadata": {},
   "outputs": [
    {
     "name": "stdout",
     "output_type": "stream",
     "text": [
      "Вероятность того, что стрелок попадет в цель ровно 85 раз: 0.0481\n",
      "Вероятность в процентах: 4.81 %\n"
     ]
    }
   ],
   "source": [
    "#Решение\n",
    "#Для решения задачи применяется формула Бернулли\n",
    "p_1 = 0.8 # Вероятность того, что стрелок попадет в мишень, выстрелив один раз, равна 0.8.\n",
    "n_1 = 100 #Колтчество выстрелов\n",
    "k_1 = 85 #Количество попаданий\n",
    "#В формуле Бернулли используется:\n",
    "# число сочетаний из 100 - 85\n",
    "# обратная вероятность q = 1 - p\n",
    "#Вычисляем вероятность:\n",
    "probability_1 = (factorial(n_1)/(factorial(k_1)*factorial(n_1 - k_1)))*(p_1**k_1)*((1-p_1)**(n_1 - k_1))\n",
    "print(\"Вероятность того, что стрелок попадет в цель ровно 85 раз:\", round((probability_1),4))\n",
    "print(\"Вероятность в процентах:\", round((probability_1),4)*100,\"%\")"
   ]
  },
  {
   "cell_type": "code",
   "execution_count": 4,
   "id": "403e6465",
   "metadata": {},
   "outputs": [],
   "source": [
    "#Задача 2\n",
    "#Вероятность того, что лампочка перегорит в течение первого дня эксплуатации, равна 0.0004. \n",
    "#В жилом комплексе после ремонта в один день включили 5000 новых лампочек. \n",
    "#Какова вероятность, что ни одна из них не перегорит в первый день? \n",
    "#Какова вероятность, что перегорят ровно две?"
   ]
  },
  {
   "cell_type": "code",
   "execution_count": 5,
   "id": "b3cb141f",
   "metadata": {},
   "outputs": [
    {
     "name": "stdout",
     "output_type": "stream",
     "text": [
      "Cреднее количество наступления события: 2.0\n",
      "Вероятность, что ни одна лампочка не перегорит в первый день: 0.1353\n",
      "Вероятность в процентах: 13.530000000000001 %\n"
     ]
    }
   ],
   "source": [
    "#Решение варианта a\n",
    "#Исходя из условия задачи, вероятность наступления события небольшая, \n",
    "# а число испытаний велико, для решения будет использоваться \n",
    "# закон распределения Пуассона.\n",
    "p_2a = 0.0004 # Вероятность, что лампочка перегорит в течение первого дня эксплуатации\n",
    "n_2a = 5000   # Общее количество лампочек\n",
    "m_2a = 0      # Количество лампочек, которое перегорит в первый день(из условия - не перегорит ни одна)\n",
    "#Находим среднее количество наступления события \n",
    "lambda_2a = p_2a*n_2a\n",
    "print(\"Cреднее количество наступления события:\",lambda_2a)\n",
    "#Выполняется расчет по формуле Пуассона\n",
    "probability_2a = ((lambda_2a**m_2a)/factorial(m_2a))*math.e**(-lambda_2a)\n",
    "print(\"Вероятность, что ни одна лампочка не перегорит в первый день:\", round((probability_2a),4))\n",
    "print(\"Вероятность в процентах:\", round((probability_2a),4)*100,\"%\")"
   ]
  },
  {
   "cell_type": "code",
   "execution_count": 6,
   "id": "9c9a0d88",
   "metadata": {},
   "outputs": [
    {
     "name": "stdout",
     "output_type": "stream",
     "text": [
      "Cреднее количество наступления события: 2.0\n",
      "Вероятность, что 2 лампочки  перегорят в первый день: 0.2707\n",
      "Вероятность в процентах: 27.07 %\n"
     ]
    }
   ],
   "source": [
    "#Решение варианта b\n",
    "#Условие не изменяется, используется распределение Пуассона\n",
    "p_2b = 0.0004 # Вероятность, что лампочка перегорит в течение первого дня эксплуатации\n",
    "n_2b = 5000   # Общее количество лампочек\n",
    "m_2b = 2 # Количество лампочек, которое перегорит в один день\n",
    "#Находим среднее количество наступления события \n",
    "lambda_2b = p_2b*n_2b\n",
    "print(\"Cреднее количество наступления события:\",lambda_2b)\n",
    "#Выполняется расчет по формуле Пуассона\n",
    "probability_2b = ((lambda_2b**m_2b)/factorial(m_2b))*math.e**(-lambda_2b)\n",
    "print(\"Вероятность, что\",m_2b, \"лампочки  перегорят в первый день:\", round((probability_2b),4))\n",
    "print(\"Вероятность в процентах:\", round((probability_2b),4)*100,\"%\")"
   ]
  },
  {
   "cell_type": "code",
   "execution_count": 7,
   "id": "1263d265",
   "metadata": {},
   "outputs": [],
   "source": [
    "#Задача 3\n",
    "#Монету подбросили 144 раза. Какова вероятность, что орел выпадет ровно 70 раз?"
   ]
  },
  {
   "cell_type": "code",
   "execution_count": 8,
   "id": "36fee3a0",
   "metadata": {},
   "outputs": [
    {
     "name": "stdout",
     "output_type": "stream",
     "text": [
      "Вероятность, что орел выпадет ровно 70 раз 0.0628\n",
      "Вероятность в процентах: 6.279999999999999 %\n"
     ]
    }
   ],
   "source": [
    "#Решение\n",
    "#Для решения задачи используется формула Бернуули\n",
    "n_3 = 144 # Количество подбросов монеты\n",
    "k_3 = 70  #Выпадение орла\n",
    "p_3 = 0.5 #Вероятность выпадения орла\n",
    "\n",
    "probability_3 = ((factorial(n_3)/(factorial(k_3)*factorial(n_3 - k_3)))*(p_3**k_3)*((1-p_3)**(n_3 - k_3)))\n",
    "print(\"Вероятность, что орел выпадет ровно 70 раз\", round((probability_3),4))\n",
    "print(\"Вероятность в процентах:\", round((probability_3),4)*100,\"%\")"
   ]
  },
  {
   "cell_type": "code",
   "execution_count": 9,
   "id": "785c1573",
   "metadata": {},
   "outputs": [],
   "source": [
    "#Задача 4\n",
    "#В первом ящике находится 10 мячей, из которых 7 - белые. \n",
    "#Во втором ящике - 11 мячей, из которых 9 белых. \n",
    "#Из каждого ящика вытаскивают случайным образом по два мяча. \n",
    "#a)Какова вероятность того, что все мячи белые? \n",
    "#b)Какова вероятность того, что ровно два мяча белые?\n",
    "#c)Какова вероятность того, что хотя бы один мяч белый?"
   ]
  },
  {
   "cell_type": "code",
   "execution_count": 10,
   "id": "78fe5f46",
   "metadata": {},
   "outputs": [
    {
     "name": "stdout",
     "output_type": "stream",
     "text": [
      "Общее количество исходов для первой корзины: 45\n",
      "Общее количество исходов для второй корзины: 55\n",
      "Общее количество благоприятных исходов для первой корзины: 21\n",
      "Общее количество благоприятных исходов для первой корзины: 36\n",
      "Вероятность вытащить 2 белых шара из первой корзины: 0.4667\n",
      "Вероятность вытащить 2 белых шара из второй корзины: 0.6545\n",
      "Вероятность, что все мячи белые: 0.3055\n",
      "Вероятность в процентах: 30.55 %\n"
     ]
    }
   ],
   "source": [
    "#Решение\n",
    "#Вариант a\n",
    "first_basket_white = 7 #Количество белых шаров в первой корзине\n",
    "first_basket_others = 3 #Количество остальных шаров в первой корзине\n",
    "first_basket_amount = 10 #Общее количество шаров в первой корзине\n",
    "second_basket_white = 9 #Количество белых шаров во второй корзине\n",
    "second_basket_others = 2 #Количество остальных шаров во второй корзине\n",
    "second_basket_amount = 11 #Общее количество шаров во второй корзине\n",
    "balls_taken = 2# Количество извлекаемых шаров\n",
    "\n",
    "#Для решения задачи, используется формула сочетаний \n",
    "def combinations (a,b):\n",
    "    amount_combinations = factorial(a)/(factorial(a-b)*factorial(b))\n",
    "    return int(amount_combinations)\n",
    "\n",
    "#Рассчитывется общее число исходов для первой корзины\n",
    "outcomes_first_basket = combinations(first_basket_amount,balls_taken)\n",
    "print(\"Общее количество исходов для первой корзины:\",outcomes_first_basket)\n",
    "\n",
    "#Рассчитывется общее число исходов для второй корзины\n",
    "outcomes_second_basket = combinations(second_basket_amount,balls_taken)\n",
    "print(\"Общее количество исходов для второй корзины:\",outcomes_second_basket)\n",
    "\n",
    "#Рассчитываем количество благоприятных исходов для первой корзины\n",
    "favourite_outcomes_first_basket = combinations(first_basket_white,balls_taken)\n",
    "print(\"Общее количество благоприятных исходов для первой корзины:\",favourite_outcomes_first_basket)\n",
    "\n",
    "#Рассчитываем количество благоприятных исходов для второй корзины\n",
    "favourite_outcomes_second_basket = combinations(second_basket_white,balls_taken)\n",
    "print(\"Общее количество благоприятных исходов для первой корзины:\",favourite_outcomes_second_basket)\n",
    "\n",
    "#Расчет вероятностей для первой и второй корзин\n",
    "probability_first_basket = favourite_outcomes_first_basket/outcomes_first_basket\n",
    "print(\"Вероятность вытащить\",balls_taken, \"белых шара из первой корзины:\",round((probability_first_basket),4))\n",
    "\n",
    "probability_second_basket = favourite_outcomes_second_basket/outcomes_second_basket\n",
    "print(\"Вероятность вытащить\",balls_taken,\"белых шара из второй корзины:\",round((probability_second_basket),4))\n",
    "\n",
    "#Для расчета вероятности совместного события используется формула произведения вероятностей\n",
    "#P(C) = P(A)*P(B)\n",
    "probability = probability_first_basket*probability_second_basket\n",
    "print(\"Вероятность, что все мячи белые:\",round((probability),4))\n",
    "print(\"Вероятность в процентах:\",round((probability),4)*100,\"%\")"
   ]
  },
  {
   "cell_type": "code",
   "execution_count": 11,
   "id": "b1b52a6c",
   "metadata": {},
   "outputs": [
    {
     "name": "stdout",
     "output_type": "stream",
     "text": [
      "Общее количество исходов для первой корзины: 45\n",
      "Общее количество исходов для второй корзины: 55\n",
      "Общее количество благоприятных исходов в комбинации A для первой корзины: 21\n",
      "Общее количество благоприятных исходов в комбинации A для второй корзины: 18\n",
      "Вероятность комбинации A = 0.1527\n",
      "Общее количество благоприятных исходов в комбинации B для первой корзины: 3\n",
      "Общее количество благоприятных исходов в комбинации B для второй корзины: 36\n",
      "Вероятность комбинации B = 0.0436\n",
      "Общее количество благоприятных исходов в комбинации C для первой корзины: 21\n",
      "Общее количество благоприятных исходов в комбинации C для второй корзины: 1\n",
      "Вероятность комбинации C = 0.0085\n",
      "Вероятность.что ровно два мяча белые: 0.2048\n",
      "Вероятность в процентах: 20.48 %\n"
     ]
    }
   ],
   "source": [
    "#Решение b\n",
    "#Возможные комбинации для данного условия задачи:\n",
    "# A - из первой корзины достали только 1 белый шар, из второй корзины достали только один белый шар\n",
    "# B - из первой корзины не достали ни одного белого шара, из второй корзины достали два белых шара\n",
    "# C - из первой корзины достали 2 белых шара, из второй корзины не достали ни одного белого шара\n",
    "\n",
    "first_basket_white_b = 7 #Количество белых шаров в первой корзине\n",
    "first_basket_others_b = 3 #Количество остальных шаров в первой корзине\n",
    "first_basket_amount_b = 10 #Общее количество шаров в первой корзине\n",
    "second_basket_white_b = 9 #Количество белых шаров во второй корзине\n",
    "second_basket_others_b = 2 #Количество остальных шаров во второй корзине\n",
    "second_basket_amount_b = 11 #Общее количество шаров во второй корзине\n",
    "balls_taken_b = 2# Количество извлекаемых шаров\n",
    "\n",
    "#Общее число исходов будет одинаковым для комбинаций A,B и С\n",
    "#Общее число исходов для первой корзины:\n",
    "outcomes_first_basket_b = combinations(10,2)\n",
    "print(\"Общее количество исходов для первой корзины:\",outcomes_first_basket_b)\n",
    "#Общее число исходов Для второй корзины:\n",
    "outcomes_second_basket_b = combinations(11,2)\n",
    "print(\"Общее количество исходов для второй корзины:\",outcomes_second_basket_b)\n",
    "\n",
    "#Рассчитаем вероятность события A\n",
    "#Рассчитаем число благоприятных исходов:\n",
    "favourite_outcomes_first_basket_A = combinations(7,1)*combinations(3,1)\n",
    "print(\"Общее количество благоприятных исходов в комбинации A для первой корзины:\",favourite_outcomes_first_basket_A)\n",
    "\n",
    "favourite_outcomes_second_basket_A = combinations(9,1)*combinations(2,1)\n",
    "print(\"Общее количество благоприятных исходов в комбинации A для второй корзины:\",favourite_outcomes_second_basket_A)\n",
    "#Вероятность комбинации A:\n",
    "probability_of_A = (favourite_outcomes_first_basket_A/outcomes_first_basket_b)*(favourite_outcomes_second_basket_A/outcomes_second_basket_b)\n",
    "print(\"Вероятность комбинации A =\",round((probability_of_A),4))\n",
    "\n",
    "#Рассчитываем вероятность события B\n",
    "#Рассчитываем число благоприятных исходов:\n",
    "favourite_outcomes_first_basket_B = combinations(3,2)\n",
    "print(\"Общее количество благоприятных исходов в комбинации B для первой корзины:\",favourite_outcomes_first_basket_B)\n",
    "\n",
    "favourite_outcomes_second_basket_B = combinations(9,2)\n",
    "print(\"Общее количество благоприятных исходов в комбинации B для второй корзины:\",favourite_outcomes_second_basket_B)\n",
    "#Вероятность комбинации B\n",
    "probability_of_B = (favourite_outcomes_first_basket_B/outcomes_first_basket_b)*(favourite_outcomes_second_basket_B/outcomes_second_basket_b)\n",
    "print(\"Вероятность комбинации B =\",round((probability_of_B),4))\n",
    "\n",
    "#Рассчитываем вероятность события C\n",
    "#Рассчитаем число благоприятных исходов:\n",
    "favourite_outcomes_first_basket_C = combinations(7,2)\n",
    "print(\"Общее количество благоприятных исходов в комбинации C для первой корзины:\",favourite_outcomes_first_basket_C)\n",
    "\n",
    "favourite_outcomes_second_basket_C = combinations(2,2)\n",
    "print(\"Общее количество благоприятных исходов в комбинации C для второй корзины:\",favourite_outcomes_second_basket_C)\n",
    "#Вероятность комбинации C\n",
    "probability_of_C = (favourite_outcomes_first_basket_C/outcomes_first_basket_b)*(favourite_outcomes_second_basket_C/outcomes_second_basket_b)\n",
    "print(\"Вероятность комбинации C =\",round((probability_of_C),4))\n",
    "#Для нахождения вероятности того, что ровно два мяча белые воспользуемся сложением вероятностей:\n",
    "final_result = probability_of_A + probability_of_B + probability_of_C\n",
    "print(\"Вероятность.что ровно два мяча белые:\",round((final_result),4))\n",
    "print(\"Вероятность в процентах:\",round((final_result),4)*100,\"%\")"
   ]
  },
  {
   "cell_type": "code",
   "execution_count": 12,
   "id": "211623b7",
   "metadata": {},
   "outputs": [
    {
     "name": "stdout",
     "output_type": "stream",
     "text": [
      "Общее количество исходов для первой корзины: 45\n",
      "Общее количество исходов для второй корзины: 55\n",
      "Общее количество благоприятных исходов для первой корзины: 3\n",
      "Общее количество благоприятных исходов для второй корзины: 1\n",
      "Вероятность того, что ни один белый шар не будет извлечен: 0.0012\n",
      "Вероятность, что хотя бы один белый шар будет извлечен: 0.9988\n",
      "Вероятность в процентах: 99.88 %\n"
     ]
    }
   ],
   "source": [
    "#Решение c\n",
    "#Какова вероятность того, что хотя бы один мяч белый?\n",
    "#Нахождение вероятности будет решаться \"от обратного\",\n",
    "#для этого необходимо найти вероятность события, \n",
    "#при котором белых мячей вытащено не будет.\n",
    "\n",
    "#Общее число исходов для первой корзины:\n",
    "outcomes_first_basket_c = combinations(10,2)\n",
    "print(\"Общее количество исходов для первой корзины:\",outcomes_first_basket_c)\n",
    "#Общее число исходов Для второй корзины:\n",
    "outcomes_second_basket_c = combinations(11,2)\n",
    "print(\"Общее количество исходов для второй корзины:\",outcomes_second_basket_c)\n",
    "\n",
    "#Расчитаем число благоприятных исходов для первой корзины\n",
    "favourite_outcomes_first_basket_c = combinations(3,2)\n",
    "print(\"Общее количество благоприятных исходов для первой корзины:\",favourite_outcomes_first_basket_c)\n",
    "favourite_outcomes_second_basket_c = combinations(2,2)\n",
    "print(\"Общее количество благоприятных исходов для второй корзины:\",favourite_outcomes_second_basket_c)\n",
    "#Рассчитываем вероятности\n",
    "inverse_probability = (favourite_outcomes_first_basket_c/outcomes_first_basket_c)*(favourite_outcomes_second_basket_c/outcomes_second_basket_c)\n",
    "print(\"Вероятность того, что ни один белый шар не будет извлечен:\",round((inverse_probability),4))\n",
    "probability_of_c = 1 - inverse_probability\n",
    "print(\"Вероятность, что хотя бы один белый шар будет извлечен:\",round((probability_of_c),4))\n",
    "print(\"Вероятность в процентах:\",round((probability_of_c),4)*100,\"%\")"
   ]
  },
  {
   "cell_type": "code",
   "execution_count": null,
   "id": "1f63fbf8",
   "metadata": {},
   "outputs": [],
   "source": []
  },
  {
   "cell_type": "code",
   "execution_count": null,
   "id": "4f7b6576",
   "metadata": {},
   "outputs": [],
   "source": []
  }
 ],
 "metadata": {
  "kernelspec": {
   "display_name": "Python 3 (ipykernel)",
   "language": "python",
   "name": "python3"
  },
  "language_info": {
   "codemirror_mode": {
    "name": "ipython",
    "version": 3
   },
   "file_extension": ".py",
   "mimetype": "text/x-python",
   "name": "python",
   "nbconvert_exporter": "python",
   "pygments_lexer": "ipython3",
   "version": "3.9.13"
  }
 },
 "nbformat": 4,
 "nbformat_minor": 5
}
